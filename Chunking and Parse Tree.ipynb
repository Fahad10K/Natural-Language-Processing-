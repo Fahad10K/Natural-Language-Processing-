{
  "nbformat": 4,
  "nbformat_minor": 0,
  "metadata": {
    "colab": {
      "provenance": []
    },
    "kernelspec": {
      "name": "python3",
      "display_name": "Python 3"
    },
    "language_info": {
      "name": "python"
    }
  },
  "cells": [
    {
      "cell_type": "code",
      "source": [
        "import nltk\n",
        "nltk.download('punkt')"
      ],
      "metadata": {
        "colab": {
          "base_uri": "https://localhost:8080/"
        },
        "id": "x_khVyBQIn6z",
        "outputId": "f08fc033-1b50-4a3e-a2af-142c5673a1c0"
      },
      "execution_count": null,
      "outputs": [
        {
          "output_type": "stream",
          "name": "stderr",
          "text": [
            "[nltk_data] Downloading package punkt to /root/nltk_data...\n",
            "[nltk_data]   Unzipping tokenizers/punkt.zip.\n"
          ]
        },
        {
          "output_type": "execute_result",
          "data": {
            "text/plain": [
              "True"
            ]
          },
          "metadata": {},
          "execution_count": 2
        }
      ]
    },
    {
      "cell_type": "code",
      "source": [
        "import nltk\n",
        "nltk.download('averaged_perceptron_tagger')"
      ],
      "metadata": {
        "colab": {
          "base_uri": "https://localhost:8080/"
        },
        "id": "ExUJpOe83sDI",
        "outputId": "f830b16f-594d-413c-c86b-4127df336906"
      },
      "execution_count": null,
      "outputs": [
        {
          "output_type": "stream",
          "name": "stderr",
          "text": [
            "[nltk_data] Downloading package averaged_perceptron_tagger to\n",
            "[nltk_data]     /root/nltk_data...\n",
            "[nltk_data]   Unzipping taggers/averaged_perceptron_tagger.zip.\n"
          ]
        },
        {
          "output_type": "execute_result",
          "data": {
            "text/plain": [
              "True"
            ]
          },
          "metadata": {},
          "execution_count": 5
        }
      ]
    },
    {
      "cell_type": "code",
      "source": [
        "import nltk\n",
        "\n",
        "# define a sample sentence\n",
        "sentence = \"John is eating a delicious pizza with a fork\"\n",
        "\n",
        "# tokenize the sentence\n",
        "tokens = nltk.word_tokenize(sentence)\n",
        "\n",
        "# define the grammar rules for chunking\n",
        "grammar = \"NP: {<DT>?<JJ>*<NN>}\" # extract noun phrases\n",
        "\n",
        "# create a chunk parser using the grammar rules\n",
        "chunk_parser = nltk.RegexpParser(grammar)\n",
        "\n",
        "# apply the chunk parser on the tokenized sentence\n",
        "chunked_sentence = chunk_parser.parse(nltk.pos_tag(tokens))\n",
        "\n",
        "# print the chunked sentence\n",
        "print(chunked_sentence)\n",
        "\n",
        "# visualize the chunked sentence as a tree\n",
        "chunked_sentence.pretty_print()\n"
      ],
      "metadata": {
        "colab": {
          "base_uri": "https://localhost:8080/"
        },
        "id": "SaX4giTm3c45",
        "outputId": "2ef7ae5c-32be-416f-feb0-ae16970b5391"
      },
      "execution_count": null,
      "outputs": [
        {
          "output_type": "stream",
          "name": "stdout",
          "text": [
            "(S\n",
            "  John/NNP\n",
            "  is/VBZ\n",
            "  eating/VBG\n",
            "  (NP a/DT delicious/JJ pizza/NN)\n",
            "  with/IN\n",
            "  (NP a/DT fork/NN))\n",
            "                                    S                                         \n",
            "    ________________________________|_______________________________           \n",
            "   |       |        |         |              NP                     NP        \n",
            "   |       |        |         |      ________|__________        ____|_____     \n",
            "John/NNP is/VBZ eating/VBG with/IN a/DT delicious/JJ pizza/NN a/DT     fork/NN\n",
            "\n"
          ]
        }
      ]
    }
  ]
}